{
 "cells": [
  {
   "cell_type": "code",
   "execution_count": 11,
   "metadata": {},
   "outputs": [],
   "source": [
    "test_list1 = [11, 17, 88, 10, 5, 95, 1, 3, 4]\n",
    "test_list2 = [-33, 5, 85, 7, 10 , 37, -4]\n",
    "\n",
    "test_string1 = 'The Lord of The Rings'\n",
    "test_srting2 = 'Her Royal Majesty Queen Elizabeth II'"
   ]
  },
  {
   "cell_type": "code",
   "execution_count": 15,
   "metadata": {},
   "outputs": [],
   "source": [
    "import numpy as np\n",
    "import assignment2_modules\n",
    "import time"
   ]
  },
  {
   "cell_type": "code",
   "execution_count": 4,
   "metadata": {},
   "outputs": [
    {
     "data": {
      "text/plain": [
       "95"
      ]
     },
     "execution_count": 4,
     "metadata": {},
     "output_type": "execute_result"
    }
   ],
   "source": [
    "from assignment2_modules import list_max\n",
    "\n",
    "\n",
    "list_max(test_list1)"
   ]
  },
  {
   "cell_type": "code",
   "execution_count": 5,
   "metadata": {},
   "outputs": [
    {
     "data": {
      "text/plain": [
       "85"
      ]
     },
     "execution_count": 5,
     "metadata": {},
     "output_type": "execute_result"
    }
   ],
   "source": [
    "list_max(test_list2)"
   ]
  },
  {
   "cell_type": "code",
   "execution_count": 6,
   "metadata": {},
   "outputs": [
    {
     "data": {
      "text/plain": [
       "26.0"
      ]
     },
     "execution_count": 6,
     "metadata": {},
     "output_type": "execute_result"
    }
   ],
   "source": [
    "from assignment2_modules import average_of_list\n",
    "\n",
    "\n",
    "average_of_list(test_list1)"
   ]
  },
  {
   "cell_type": "code",
   "execution_count": 7,
   "metadata": {},
   "outputs": [
    {
     "data": {
      "text/plain": [
       "15.285714285714286"
      ]
     },
     "execution_count": 7,
     "metadata": {},
     "output_type": "execute_result"
    }
   ],
   "source": [
    "average_of_list(test_list2)"
   ]
  },
  {
   "cell_type": "code",
   "execution_count": 8,
   "metadata": {},
   "outputs": [
    {
     "data": {
      "text/plain": [
       "[' ',\n",
       " ' ',\n",
       " ' ',\n",
       " ' ',\n",
       " 'L',\n",
       " 'R',\n",
       " 'T',\n",
       " 'T',\n",
       " 'd',\n",
       " 'e',\n",
       " 'e',\n",
       " 'f',\n",
       " 'g',\n",
       " 'h',\n",
       " 'h',\n",
       " 'i',\n",
       " 'n',\n",
       " 'o',\n",
       " 'o',\n",
       " 'r',\n",
       " 's']"
      ]
     },
     "execution_count": 8,
     "metadata": {},
     "output_type": "execute_result"
    }
   ],
   "source": [
    "from assignment2_modules import sorted_string\n",
    "\n",
    "\n",
    "sorted_string(test_string1)"
   ]
  },
  {
   "cell_type": "code",
   "execution_count": 12,
   "metadata": {},
   "outputs": [
    {
     "data": {
      "text/plain": [
       "[' ',\n",
       " ' ',\n",
       " ' ',\n",
       " ' ',\n",
       " ' ',\n",
       " 'E',\n",
       " 'H',\n",
       " 'I',\n",
       " 'I',\n",
       " 'M',\n",
       " 'Q',\n",
       " 'R',\n",
       " 'a',\n",
       " 'a',\n",
       " 'a',\n",
       " 'b',\n",
       " 'e',\n",
       " 'e',\n",
       " 'e',\n",
       " 'e',\n",
       " 'e',\n",
       " 'h',\n",
       " 'i',\n",
       " 'j',\n",
       " 'l',\n",
       " 'l',\n",
       " 'n',\n",
       " 'o',\n",
       " 'r',\n",
       " 's',\n",
       " 't',\n",
       " 't',\n",
       " 'u',\n",
       " 'y',\n",
       " 'y',\n",
       " 'z']"
      ]
     },
     "execution_count": 12,
     "metadata": {},
     "output_type": "execute_result"
    }
   ],
   "source": [
    "sorted_string(test_srting2)"
   ]
  },
  {
   "cell_type": "code",
   "execution_count": 18,
   "metadata": {},
   "outputs": [
    {
     "data": {
      "text/plain": [
       "95"
      ]
     },
     "execution_count": 18,
     "metadata": {},
     "output_type": "execute_result"
    }
   ],
   "source": [
    "np.max(test_list1)\n"
   ]
  },
  {
   "cell_type": "code",
   "execution_count": 19,
   "metadata": {},
   "outputs": [
    {
     "data": {
      "text/plain": [
       "85"
      ]
     },
     "execution_count": 19,
     "metadata": {},
     "output_type": "execute_result"
    }
   ],
   "source": [
    "np.max(test_list2)"
   ]
  },
  {
   "cell_type": "code",
   "execution_count": 20,
   "metadata": {},
   "outputs": [
    {
     "data": {
      "text/plain": [
       "26.0"
      ]
     },
     "execution_count": 20,
     "metadata": {},
     "output_type": "execute_result"
    }
   ],
   "source": [
    "np.mean(test_list1)"
   ]
  },
  {
   "cell_type": "code",
   "execution_count": 21,
   "metadata": {},
   "outputs": [
    {
     "data": {
      "text/plain": [
       "15.285714285714286"
      ]
     },
     "execution_count": 21,
     "metadata": {},
     "output_type": "execute_result"
    }
   ],
   "source": [
    "np.mean(test_list2)"
   ]
  },
  {
   "cell_type": "code",
   "execution_count": 22,
   "metadata": {},
   "outputs": [
    {
     "data": {
      "text/plain": [
       "1663423109.01491"
      ]
     },
     "execution_count": 22,
     "metadata": {},
     "output_type": "execute_result"
    }
   ],
   "source": [
    "time.time()"
   ]
  },
  {
   "cell_type": "code",
   "execution_count": 23,
   "metadata": {},
   "outputs": [
    {
     "name": "stdout",
     "output_type": "stream",
     "text": [
      "Numpy took more time than the module\n",
      " to find the maximum number in the list\n"
     ]
    }
   ],
   "source": [
    "t1 = time.time()\n",
    "list_max(test_list1)\n",
    "t2 = time.time()\n",
    "t_mod = t2 - t1\n",
    "\n",
    "t3 = time.time()\n",
    "np.max(test_list1)\n",
    "t4 = time.time()\n",
    "t_numpy = t4 -t1\n",
    "\n",
    "if t_mod > t_numpy:\n",
    "    print ('The module took more than numpy')\n",
    "elif t_numpy > t_mod:\n",
    "    print ('Numpy took more time than the module')\n",
    "elif t_mod == t_numpy:\n",
    "    print ('It took equal time for both numpy and the module')\n",
    "\n",
    "print (' to find the maximum number in the list')\n"
   ]
  },
  {
   "cell_type": "code",
   "execution_count": 24,
   "metadata": {},
   "outputs": [
    {
     "name": "stdout",
     "output_type": "stream",
     "text": [
      "Numpy took more time than the module\n",
      " to find the average number in the list\n"
     ]
    }
   ],
   "source": [
    "#Comparing the time for the module I created vs numpy to run \n",
    "\n",
    "t1 = time.time()\n",
    "average_of_list(test_list2)\n",
    "t2 = time.time()\n",
    "t_mod = t2 - t1\n",
    "\n",
    "t3 = time.time()\n",
    "np.mean(test_list2)\n",
    "t4 = time.time()\n",
    "t_numpy = t4 -t1\n",
    "\n",
    "if t_mod > t_numpy:\n",
    "    print ('The module took more than numpy')\n",
    "elif t_numpy > t_mod:\n",
    "    print ('Numpy took more time than the module')\n",
    "elif t_mod == t_numpy:\n",
    "    print ('It took equal time for both numpy and the module')\n",
    "\n",
    "print (' to find the average number in the list')"
   ]
  },
  {
   "cell_type": "code",
   "execution_count": null,
   "metadata": {},
   "outputs": [],
   "source": []
  }
 ],
 "metadata": {
  "kernelspec": {
   "display_name": "Python 3.10.4 ('ibm_data')",
   "language": "python",
   "name": "python3"
  },
  "language_info": {
   "codemirror_mode": {
    "name": "ipython",
    "version": 3
   },
   "file_extension": ".py",
   "mimetype": "text/x-python",
   "name": "python",
   "nbconvert_exporter": "python",
   "pygments_lexer": "ipython3",
   "version": "3.10.4"
  },
  "orig_nbformat": 4,
  "vscode": {
   "interpreter": {
    "hash": "4c1844b10c4212b0960ac3a19ec0b19558d72250098ad25c1c703f612840be79"
   }
  }
 },
 "nbformat": 4,
 "nbformat_minor": 2
}
