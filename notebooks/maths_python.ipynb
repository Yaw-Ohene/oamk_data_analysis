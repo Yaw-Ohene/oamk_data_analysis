{
 "cells": [
  {
   "cell_type": "code",
   "execution_count": 5,
   "metadata": {},
   "outputs": [],
   "source": [
    "import numpy as np\n",
    "import statistics as stats\n",
    "import scipy\n",
    "import sympy"
   ]
  },
  {
   "cell_type": "code",
   "execution_count": 4,
   "metadata": {},
   "outputs": [
    {
     "name": "stdout",
     "output_type": "stream",
     "text": [
      "x =  [ 1  4  6 -3  9  2  4]\n",
      "a. The mean of x is  3.2857142857142856\n",
      "b. The median of x is  4.0\n",
      "c. The mode of x is  4\n",
      "d. The standard deviation of x is  3.534090536243709\n"
     ]
    }
   ],
   "source": [
    "# question 33 (1)\n",
    "x = np.array([1,4,6,-3,9,2,4])\n",
    "x_mean =  np.mean(x)\n",
    "x_median = np.median(x)\n",
    "x_mode = stats.mode(x)\n",
    "x_std = np.std(x)\n",
    "print('x = ', x)\n",
    "print('a. The mean of x is ', x_mean)\n",
    "print('b. The median of x is ', x_median)\n",
    "print('c. The mode of x is ' ,  x_mode)\n",
    "print('d. The standard deviation of x is ', x_std)\n",
    "\n"
   ]
  },
  {
   "cell_type": "code",
   "execution_count": 12,
   "metadata": {},
   "outputs": [
    {
     "name": "stdout",
     "output_type": "stream",
     "text": [
      "roots are  [-5.  1.]\n"
     ]
    }
   ],
   "source": [
    "def f(x):\n",
    "    return x**2 + 4*x -5\n",
    "f_root = scipy.optimize.fsolve(f, [-1000,2000])\n",
    "print('roots are ', f_root)\n"
   ]
  },
  {
   "cell_type": "code",
   "execution_count": 15,
   "metadata": {},
   "outputs": [
    {
     "data": {
      "text/plain": [
       "[-5, 1]"
      ]
     },
     "execution_count": 15,
     "metadata": {},
     "output_type": "execute_result"
    }
   ],
   "source": [
    "x = sympy.Symbol('x')\n",
    "f2 = x**2 + 4*x -5\n",
    "sympy.solvers.solve(f2,x)\n",
    "\n"
   ]
  },
  {
   "cell_type": "code",
   "execution_count": 16,
   "metadata": {},
   "outputs": [
    {
     "data": {
      "text/latex": [
       "$\\displaystyle 3 x^{2} + 4$"
      ],
      "text/plain": [
       "3*x**2 + 4"
      ]
     },
     "execution_count": 16,
     "metadata": {},
     "output_type": "execute_result"
    }
   ],
   "source": [
    "# derivative\n",
    "x = sympy.Symbol('x')\n",
    "f = x**3 + 4*x -5\n",
    "\n",
    "derivative_f = f.diff(x)\n",
    "derivative_f"
   ]
  },
  {
   "cell_type": "code",
   "execution_count": 49,
   "metadata": {},
   "outputs": [
    {
     "name": "stdout",
     "output_type": "stream",
     "text": [
      "the maximum area for the shepfold is  416.6666666666667 square meter\n"
     ]
    }
   ],
   "source": [
    "# A farmer wishes to make a small rectangular sheepfold with one side double fence wire. \n",
    "# If he has 100m of fence, find the maximum area for the sheepfold.\n",
    "\n",
    "#Solution \n",
    "# Area = a*b \n",
    "# # the length -> 100 = 3*a + 2*b\n",
    "# therefore b = (100 - 3*a)/2\n",
    "\n",
    "a = sympy.Symbol('a')\n",
    "b = (100-3*a)/2\n",
    "#substitute b into Area equation\n",
    "Area = a * b\n",
    "# the max area is the critical point (where the rate of change is 0)\n",
    "derivate_Area = Area.diff(a)\n",
    "a_at_critical_point = sympy.solvers.solve(derivate_Area, a)\n",
    "# substitute the value of at the crital point back into b\n",
    "b_at_critical_point = (100-3*a_at_critical_point[0])/2\n",
    "# now find the area at the critical point\n",
    "critical_area = a_at_critical_point[0] * b_at_critical_point\n",
    "print ('the maximum area for the shepfold is ', float(critical_area),'square meter')"
   ]
  },
  {
   "cell_type": "code",
   "execution_count": 55,
   "metadata": {},
   "outputs": [
    {
     "name": "stdout",
     "output_type": "stream",
     "text": [
      "The probability that x is between -100 and 0 is  0.5\n"
     ]
    }
   ],
   "source": [
    "def gaussian(x,mu,sigma):\n",
    "        return 1/(np.sqrt(2*np.pi)*sigma)*np.exp(-1/2*((x-mu)/sigma)**2)\n",
    "a = -100\n",
    "b = 0\n",
    "mu = 0 #Average of values is zero\n",
    "sigma = 1 #Standard deviation is 1\n",
    "\n",
    "#Standard normal distribution\\n\",\n",
    "\n",
    "y = lambda x: gaussian(x,mu,sigma) #This creates function y, where only x is independent variable and mu and sigma are fixed\n",
    "I = scipy.integrate.quad(y,a,b)\n",
    "print('The probability that x is between', a,'and',b ,'is ', I[0])"
   ]
  },
  {
   "cell_type": "code",
   "execution_count": 31,
   "metadata": {},
   "outputs": [
    {
     "data": {
      "text/plain": [
       "8"
      ]
     },
     "execution_count": 31,
     "metadata": {},
     "output_type": "execute_result"
    }
   ],
   "source": [
    "8"
   ]
  },
  {
   "cell_type": "code",
   "execution_count": null,
   "metadata": {},
   "outputs": [],
   "source": []
  }
 ],
 "metadata": {
  "kernelspec": {
   "display_name": "Python 3.10.4 ('ibm_data')",
   "language": "python",
   "name": "python3"
  },
  "language_info": {
   "codemirror_mode": {
    "name": "ipython",
    "version": 3
   },
   "file_extension": ".py",
   "mimetype": "text/x-python",
   "name": "python",
   "nbconvert_exporter": "python",
   "pygments_lexer": "ipython3",
   "version": "3.10.4"
  },
  "orig_nbformat": 4,
  "vscode": {
   "interpreter": {
    "hash": "4c1844b10c4212b0960ac3a19ec0b19558d72250098ad25c1c703f612840be79"
   }
  }
 },
 "nbformat": 4,
 "nbformat_minor": 2
}
